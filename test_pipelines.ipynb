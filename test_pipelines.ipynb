{
 "cells": [
  {
   "cell_type": "code",
   "execution_count": 336,
   "metadata": {},
   "outputs": [],
   "source": [
    "import pandas as pd\n",
    "import numpy as np\n",
    "import math\n",
    "import matplotlib.pyplot as plt\n",
    "from typing import Dict, List, Union, Any, Tuple, Callable\n",
    "from pprint import pprint"
   ]
  },
  {
   "attachments": {},
   "cell_type": "markdown",
   "metadata": {},
   "source": [
    "## Performance Metrics"
   ]
  },
  {
   "attachments": {},
   "cell_type": "markdown",
   "metadata": {},
   "source": [
    "The values used for the classification metrics\n",
    "\n",
    "<img width=\"300px\" src=\"./assets/example_classification.png\" alt=\"example naive bayes question\" />"
   ]
  },
  {
   "cell_type": "code",
   "execution_count": 337,
   "metadata": {},
   "outputs": [
    {
     "name": "stdout",
     "output_type": "stream",
     "text": [
      "{'accuracy': 0.8181818181818182,\n",
      " 'class_metrics': {0: {'f1': 0.8,\n",
      "                       'precision': 0.7692307692307693,\n",
      "                       'recall': 0.8333333333333334},\n",
      "                   1: {'f1': 0.7142857142857143,\n",
      "                       'precision': 0.7142857142857143,\n",
      "                       'recall': 0.7142857142857143},\n",
      "                   2: {'f1': 0.888888888888889,\n",
      "                       'precision': 0.9230769230769231,\n",
      "                       'recall': 0.8571428571428571}},\n",
      " 'macro_f1': 0.801058201058201,\n",
      " 'micro_f1': 0.8181818181818182}\n"
     ]
    }
   ],
   "source": [
    "confusion_matrix = [\n",
    "    [10, 2, 0],\n",
    "    [1, 5, 1],\n",
    "    [2, 0, 12]\n",
    "]\n",
    "\n",
    "def classification_metrics_from_confusion_matrix(confusion_matrix: List[List[int]]) -> Dict[str, Dict[str, float]]:\n",
    "    num_classes = len(confusion_matrix)\n",
    "    accuracy = sum(confusion_matrix[i][i] for i in range(num_classes)) / sum(sum(row) for row in confusion_matrix)\n",
    "\n",
    "    metrics = {}\n",
    "    tp_sum = 0\n",
    "    fp_sum = 0\n",
    "    fn_sum = 0\n",
    "\n",
    "    for c in range(num_classes):\n",
    "        tp = confusion_matrix[c][c]\n",
    "        fp = sum(confusion_matrix[i][c] for i in range(num_classes)) - tp\n",
    "        fn = sum(confusion_matrix[c]) - tp\n",
    "\n",
    "        precision = tp / (tp + fp) if tp + fp > 0 else 0\n",
    "        recall = tp / (tp + fn) if tp + fn > 0 else 0\n",
    "        f1 = 2 * precision * recall / (precision + recall) if precision + recall > 0 else 0\n",
    "\n",
    "        tp_sum += tp\n",
    "        fp_sum += fp\n",
    "        fn_sum += fn\n",
    "\n",
    "        metrics[c] = {\"precision\": precision, \"recall\": recall, \"f1\": f1}\n",
    "\n",
    "    macro_f1 = sum(m[\"f1\"] for m in metrics.values()) / num_classes\n",
    "\n",
    "    micro_precision = tp_sum / (tp_sum + fp_sum)\n",
    "    micro_recall = tp_sum / (tp_sum + fn_sum)\n",
    "\n",
    "    micro_f1 = 2 * micro_precision * micro_recall / (micro_precision + micro_recall)\n",
    "\n",
    "    return {\n",
    "        \"accuracy\": accuracy,\n",
    "        \"class_metrics\": metrics,\n",
    "        \"macro_f1\": macro_f1,\n",
    "        \"micro_f1\": micro_f1,\n",
    "    }\n",
    "\n",
    "result = classification_metrics_from_confusion_matrix(confusion_matrix)\n",
    "pprint(result)\n"
   ]
  },
  {
   "attachments": {},
   "cell_type": "markdown",
   "metadata": {},
   "source": [
    "### Regression"
   ]
  },
  {
   "cell_type": "code",
   "execution_count": 338,
   "metadata": {},
   "outputs": [],
   "source": [
    "# Example usage:\n",
    "coordinates = [(1, 2), (2, 4), (3, 5), (4, 7), (5, 10)]"
   ]
  },
  {
   "cell_type": "code",
   "execution_count": 339,
   "metadata": {},
   "outputs": [
    {
     "data": {
      "image/png": "[encoded data removed]",
      "text/plain": [
       "<Figure size 640x480 with 1 Axes>"
      ]
     },
     "metadata": {},
     "output_type": "display_data"
    },
    {
     "name": "stdout",
     "output_type": "stream",
     "text": [
      "Mean squared error (MSE): 0.2199999999999999\n",
      "R-squared value: 0.9704301075268817\n"
     ]
    }
   ],
   "source": [
    "def plot_regression_line(coordinates: List[Tuple[float, float]]) -> None:\n",
    "    \"\"\"\n",
    "    Plots coordinates and the regression line with its equation.\n",
    "    \n",
    "    Args:\n",
    "        coordinates (List[Tuple[float, float]]): A list of tuples where each tuple represents the (x, y) coordinates.\n",
    "    \"\"\"\n",
    "    # Extract the x and y values from the coordinates\n",
    "    x = np.array([coord[0] for coord in coordinates])\n",
    "    y = np.array([coord[1] for coord in coordinates])\n",
    "\n",
    "    # Compute the regression coefficients\n",
    "    A = np.vstack([x, np.ones(len(x))]).T\n",
    "    m, c = np.linalg.lstsq(A, y, rcond=None)[0]\n",
    "\n",
    "    # Compute the regression line\n",
    "    y_pred = m * x + c\n",
    "\n",
    "    # Plot the coordinates and regression line\n",
    "    plt.scatter(x, y, label=\"Data points\")\n",
    "    plt.plot(x, y_pred, \"r\", label=f\"Regression line: y = {m:.2f}x + {c:.2f}\")\n",
    "    plt.legend()\n",
    "    plt.show()\n",
    "\n",
    "def assess_regression_performance(coordinates: List[Tuple[float, float]]) -> Tuple[float, float]:\n",
    "    \"\"\"\n",
    "    Computes the mean squared error (MSE) and R-squared value for the regression line.\n",
    "    \n",
    "    Args:\n",
    "        coordinates (List[Tuple[float, float]]): A list of tuples where each tuple represents the (x, y) coordinates.\n",
    "    \n",
    "    Returns:\n",
    "        Tuple[float, float]: A tuple containing the mean squared error (MSE) and R-squared value.\n",
    "    \"\"\"\n",
    "    # Extract the x and y values from the coordinates\n",
    "    x = np.array([coord[0] for coord in coordinates])\n",
    "    y = np.array([coord[1] for coord in coordinates])\n",
    "\n",
    "    # Compute the regression coefficients\n",
    "    A = np.vstack([x, np.ones(len(x))]).T\n",
    "    m, c = np.linalg.lstsq(A, y, rcond=None)[0]\n",
    "\n",
    "    # Compute the regression line\n",
    "    y_pred = m * x + c\n",
    "\n",
    "    # Compute the mean squared error (MSE) and R-squared value\n",
    "    mse = np.mean((y - y_pred) ** 2)\n",
    "    r_squared = 1 - (sum((y - y_pred) ** 2) / sum((y - np.mean(y)) ** 2))\n",
    "\n",
    "    return mse, r_squared\n",
    "\n",
    "plot_regression_line(coordinates)\n",
    "mse, r_squared = assess_regression_performance(coordinates)\n",
    "print(f\"Mean squared error (MSE): {mse}\")\n",
    "print(f\"R-squared value: {r_squared}\")"
   ]
  },
  {
   "attachments": {},
   "cell_type": "markdown",
   "metadata": {},
   "source": [
    "## Naive Bayes"
   ]
  },
  {
   "attachments": {},
   "cell_type": "markdown",
   "metadata": {},
   "source": [
    "The values used in the code below are from this question\n",
    "\n",
    "<img width=\"300px\" src=\"./assets/example_naive_bayes.png\" alt=\"example naive bayes question\" />"
   ]
  },
  {
   "cell_type": "code",
   "execution_count": 340,
   "metadata": {},
   "outputs": [],
   "source": [
    "# a nested list for each of the classes\n",
    "c_1 = [\n",
    "    [1.52, 1.46, 1.68, 1.47, 1.53, 1.6],\n",
    "    [1.95, 1.76, 2.11, 2.08, 1.94, 1.97]\n",
    "]\n",
    "\n",
    "c_2 = [\n",
    "    [2.04, 1.78, 1.67, 1.82, 1.65],\n",
    "    [2.24, 2.69, 2.66, 2.43, 2.9]\n",
    "]\n",
    "\n",
    "c_3 = [\n",
    "    [2.15, 1.55, 2.92, 1.23],\n",
    "    [1.04, 1.08, 0.84, 0.85]\n",
    "]\n",
    "\n",
    "classes = [c_1, c_2, c_3]\n",
    "\n",
    "# this should be provided in the question\n",
    "x = (2, 2.1)"
   ]
  },
  {
   "cell_type": "code",
   "execution_count": 341,
   "metadata": {},
   "outputs": [
    {
     "name": "stdout",
     "output_type": "stream",
     "text": [
      "set_size =  15 \n",
      "\n",
      "mean_1 =  1.5433333333333332 sd_1 =  0.07630348761506399 mean_2 =  1.9683333333333335 sd_2 =  0.11334558757279535\n",
      "class_size = 6\n",
      "p_c = 0.4\n",
      "L = -16.58787118328581\n",
      "\n",
      "mean_1 =  1.7920000000000003 sd_1 =  0.13962807740565653 mean_2 =  2.584 sd_2 =  0.22756098083810405\n",
      "class_size = 5\n",
      "p_c = 0.3333333333333333\n",
      "L = -2.858797224684779\n",
      "\n",
      "mean_1 =  1.9625 sd_1 =  0.6439477851503178 mean_2 =  0.9525 sd_2 =  0.10848386976873571\n",
      "class_size = 4\n",
      "p_c = 0.26666666666666666\n",
      "L = -56.442947368638386\n",
      "\n"
     ]
    }
   ],
   "source": [
    "set_size = 0\n",
    "for c in classes:\n",
    "    for i in c[0]:\n",
    "        set_size += 1\n",
    "\n",
    "print(\"set_size = \", set_size, \"\\n\")\n",
    "\n",
    "for c in classes:\n",
    "    set_1, set_2 = c[0], c[1] \n",
    "    mean_1, mean_2 = np.mean(set_1), np.mean(set_2)\n",
    "    sd_1, sd_2 = np.std(set_1), np.std(set_2)\n",
    "\n",
    "    print(\"mean_1 = \", mean_1, \"sd_1 = \", sd_1, \"mean_2 = \", mean_2, \"sd_2 = \", sd_2)\n",
    "\n",
    "    class_size = 0\n",
    "    for i in c[0]:\n",
    "        class_size += 1\n",
    "\n",
    "    print(f\"class_size = {class_size}\")\n",
    "    \n",
    "    p_c = class_size / set_size\n",
    "    print(f\"p_c = {p_c}\")\n",
    "\n",
    "    L = np.log(p_c) + np.log(1 / (sd_1 * np.sqrt(2 * np.pi))) + -0.5*((x[0] - mean_1)/sd_1)**2 + np.log(1 /(sd_2 * np.sqrt(2 * np.pi))) + -0.5*((x[1] - mean_2)/sd_2)**2\n",
    "\n",
    "    print(f\"L = {L}\\n\")"
   ]
  },
  {
   "attachments": {},
   "cell_type": "markdown",
   "metadata": {},
   "source": [
    "## K-Means"
   ]
  },
  {
   "attachments": {},
   "cell_type": "markdown",
   "metadata": {},
   "source": [
    "The values used in the code below are from this question\n",
    "\n",
    "<img width=\"300px\" src=\"./assets/example_knn.png\" alt=\"example knn question\" />"
   ]
  },
  {
   "cell_type": "code",
   "execution_count": 342,
   "metadata": {},
   "outputs": [],
   "source": [
    "def euclidean_distance(p1: Tuple[float, float], p2: Tuple[float, float]) -> float:\n",
    "    \"\"\"\n",
    "    Returns the Euclidean distance between two points in 2D space.\n",
    "    \n",
    "    Parameters:\n",
    "        p1 (Tuple[float, float]): A tuple representing the coordinates of the first point.\n",
    "        p2 (Tuple[float, float]): A tuple representing the coordinates of the second point.\n",
    "    \n",
    "    Returns:\n",
    "        float: The Euclidean distance between the two points.\n",
    "    \"\"\"\n",
    "\n",
    "    return math.sqrt((p1[0]-p2[0])**2 + (p1[1]-p2[1])**2)\n",
    "\n",
    "def get_centroid(points: List[Tuple[float, float]]) -> Tuple[float, float]:\n",
    "    \"\"\"\n",
    "    Returns the centroid of a list of points in 2D space.\n",
    "    \n",
    "    Parameters:\n",
    "    points (List[Tuple[float, float]]): A list of tuples representing the coordinates of each point.\n",
    "    \n",
    "    Returns:\n",
    "    Tuple[float, float]: A tuple representing the coordinates of the centroid.\n",
    "    \"\"\"\n",
    "\n",
    "    # Calculate the average x and y coordinates of the points\n",
    "    avg_x = sum(p[0] for p in points) / len(points)\n",
    "    avg_y = sum(p[1] for p in points) / len(points)\n",
    "    \n",
    "    # Return the centroid as a tuple of the average coordinates\n",
    "    return (avg_x, avg_y)"
   ]
  },
  {
   "cell_type": "code",
   "execution_count": 343,
   "metadata": {},
   "outputs": [],
   "source": [
    "# these should be provided in the question\n",
    "points = [(1, 2), (1,3), (1, 4), (2,3), (3,5), (2,4), (4, 5), (3, 6)]\n",
    "\n",
    "c_1_init = (0, 6)\n",
    "c_2_init = (4, 2)\n",
    "\n",
    "iterations = 10"
   ]
  },
  {
   "cell_type": "code",
   "execution_count": 344,
   "metadata": {},
   "outputs": [
    {
     "name": "stdout",
     "output_type": "stream",
     "text": [
      "Cluster 1 : 5 points ------- [(1, 3), (1, 4), (3, 5), (2, 4), (3, 6)]\n",
      "Cluster 2 : 3 points ------- [(1, 2), (2, 3), (4, 5)]\n",
      "Iteration: 1 - Centroid 1: (2.0, 4.4) and Centroid 2: (2.3333333333333335, 3.3333333333333335)\n",
      "Cluster 1 : 5 points ------- [(1, 4), (3, 5), (2, 4), (4, 5), (3, 6)]\n",
      "Cluster 2 : 3 points ------- [(1, 2), (1, 3), (2, 3)]\n",
      "Iteration: 2 - Centroid 1: (2.6, 4.8) and Centroid 2: (1.3333333333333333, 2.6666666666666665)\n",
      "Cluster 1 : 4 points ------- [(3, 5), (2, 4), (4, 5), (3, 6)]\n",
      "Cluster 2 : 4 points ------- [(1, 2), (1, 3), (1, 4), (2, 3)]\n",
      "Iteration: 3 - Centroid 1: (3.0, 5.0) and Centroid 2: (1.25, 3.0)\n",
      "Cluster 1 : 3 points ------- [(3, 5), (4, 5), (3, 6)]\n",
      "Cluster 2 : 5 points ------- [(1, 2), (1, 3), (1, 4), (2, 3), (2, 4)]\n",
      "Iteration: 4 - Centroid 1: (3.3333333333333335, 5.333333333333333) and Centroid 2: (1.4, 3.2)\n",
      "Cluster 1 : 3 points ------- [(3, 5), (4, 5), (3, 6)]\n",
      "Cluster 2 : 5 points ------- [(1, 2), (1, 3), (1, 4), (2, 3), (2, 4)]\n",
      "Iteration: 5 - Centroid 1: (3.3333333333333335, 5.333333333333333) and Centroid 2: (1.4, 3.2)\n",
      "Cluster 1 : 3 points ------- [(3, 5), (4, 5), (3, 6)]\n",
      "Cluster 2 : 5 points ------- [(1, 2), (1, 3), (1, 4), (2, 3), (2, 4)]\n",
      "Iteration: 6 - Centroid 1: (3.3333333333333335, 5.333333333333333) and Centroid 2: (1.4, 3.2)\n",
      "Cluster 1 : 3 points ------- [(3, 5), (4, 5), (3, 6)]\n",
      "Cluster 2 : 5 points ------- [(1, 2), (1, 3), (1, 4), (2, 3), (2, 4)]\n",
      "Iteration: 7 - Centroid 1: (3.3333333333333335, 5.333333333333333) and Centroid 2: (1.4, 3.2)\n",
      "Cluster 1 : 3 points ------- [(3, 5), (4, 5), (3, 6)]\n",
      "Cluster 2 : 5 points ------- [(1, 2), (1, 3), (1, 4), (2, 3), (2, 4)]\n",
      "Iteration: 8 - Centroid 1: (3.3333333333333335, 5.333333333333333) and Centroid 2: (1.4, 3.2)\n",
      "Cluster 1 : 3 points ------- [(3, 5), (4, 5), (3, 6)]\n",
      "Cluster 2 : 5 points ------- [(1, 2), (1, 3), (1, 4), (2, 3), (2, 4)]\n",
      "Iteration: 9 - Centroid 1: (3.3333333333333335, 5.333333333333333) and Centroid 2: (1.4, 3.2)\n",
      "Cluster 1 : 3 points ------- [(3, 5), (4, 5), (3, 6)]\n",
      "Cluster 2 : 5 points ------- [(1, 2), (1, 3), (1, 4), (2, 3), (2, 4)]\n",
      "Iteration: 10 - Centroid 1: (3.3333333333333335, 5.333333333333333) and Centroid 2: (1.4, 3.2)\n"
     ]
    }
   ],
   "source": [
    "c_1 = c_1_init\n",
    "c_2 = c_2_init\n",
    "iteration = 0\n",
    "while iteration < iterations:\n",
    "    iteration += 1\n",
    "\n",
    "    c_1_distances = [euclidean_distance(c_1, point) for point in points]\n",
    "    c_2_distances = [euclidean_distance(c_2, point) for point in points]\n",
    "\n",
    "    cluster_1 = []\n",
    "    cluster_2 = []\n",
    "    for i, point in enumerate(points):\n",
    "        if c_2_distances[i] < c_1_distances[i]:\n",
    "            cluster_2.append(point)\n",
    "        else:\n",
    "            cluster_1.append(point)\n",
    "\n",
    "    c_1 = get_centroid(cluster_1)\n",
    "    c_2 = get_centroid(cluster_2)\n",
    "\n",
    "    print(f\"Cluster 1 : {len(cluster_1)} points ------- {cluster_1}\")\n",
    "    print(f\"Cluster 2 : {len(cluster_2)} points ------- {cluster_2}\" )\n",
    "\n",
    "    print(f\"Iteration: {iteration} - Centroid 1: {c_1} and Centroid 2: {c_2}\")\n",
    "\n",
    "    "
   ]
  },
  {
   "attachments": {},
   "cell_type": "markdown",
   "metadata": {},
   "source": [
    "## Search Algos"
   ]
  },
  {
   "attachments": {},
   "cell_type": "markdown",
   "metadata": {},
   "source": [
    "### Depth First"
   ]
  },
  {
   "cell_type": "code",
   "execution_count": 345,
   "metadata": {},
   "outputs": [
    {
     "name": "stdout",
     "output_type": "stream",
     "text": [
      "Exploring node S\n",
      "Exploring node A\n",
      "Exploring node B\n",
      "Exploring node D\n",
      "Exploring node E\n",
      "Exploring node G\n",
      "Path found: ['S', 'A', 'B', 'D', 'E', 'G']\n"
     ]
    }
   ],
   "source": [
    "# a dictionary where there is a key for each node and the value is another dictionary of the connecting nodes and weights\n",
    "graph = {\n",
    "    \"S\": {\"A\": 4, \"C\": 5},\n",
    "    \"A\": {\"B\": 3, \"D\": 3},\n",
    "    \"C\": {\"G\": 4},\n",
    "    \"B\": {\"D\": 2},\n",
    "    \"D\": {\"E\": 2},\n",
    "    \"E\": {\"G\": 1},\n",
    "    \"G\": {}\n",
    "}\n",
    "\n",
    "def depth_first_search(graph: Dict[str, Dict[str, float]], start: str, goal: str, path: List[str] = None, visited: List[str] = None) -> Union[List[str], None]:\n",
    "    \"\"\"\n",
    "    Perform a depth-first search of the given graph to find a path from the start node to the goal node.\n",
    "\n",
    "    Args:\n",
    "        graph (dict): A dictionary representing the graph to be searched. Keys are nodes and values are lists\n",
    "                      of adjacent nodes.\n",
    "        start (str): The starting node for the search.\n",
    "        goal (str): The goal node to be reached.\n",
    "        path (list, optional): A list containing the current path being searched. Defaults to an empty list.\n",
    "        visited (set, optional): A set containing the nodes that have already been visited. Defaults to an empty set.\n",
    "\n",
    "    Returns:\n",
    "        list: The path from the start node to the goal node, or None if no path exists.\n",
    "    \"\"\"\n",
    "    if visited is None:\n",
    "        visited = set()\n",
    "\n",
    "    if path is None:\n",
    "        path = []\n",
    "\n",
    "    visited.add(start)\n",
    "    path = path + [start]\n",
    "\n",
    "    print(f\"Exploring node {start}\")\n",
    "\n",
    "    if start == goal:\n",
    "        return f\"Path found: {path}\"\n",
    "\n",
    "    for neighbor in graph[start]:\n",
    "        if neighbor not in visited:\n",
    "            result = depth_first_search(graph, neighbor, goal, path, visited)\n",
    "            if result:\n",
    "                return result\n",
    "\n",
    "    return None\n",
    "\n",
    "# Driver Code\n",
    "print(depth_first_search(graph, 'S', 'G'))"
   ]
  },
  {
   "attachments": {},
   "cell_type": "markdown",
   "metadata": {},
   "source": [
    "### Breadth First"
   ]
  },
  {
   "cell_type": "code",
   "execution_count": 346,
   "metadata": {},
   "outputs": [
    {
     "name": "stdout",
     "output_type": "stream",
     "text": [
      "Exploring node S\n",
      "Exploring node A\n",
      "Exploring node C\n",
      "Exploring node B\n",
      "Exploring node D\n",
      "Exploring node G\n",
      "Path found: ['S', 'C', 'G']\n"
     ]
    }
   ],
   "source": [
    "# a dictionary where there is a key for each node and the value is another dictionary of the connecting nodes and weights\n",
    "graph = {\n",
    "    \"S\": {\"A\": 4, \"C\": 5},\n",
    "    \"A\": {\"B\": 3, \"D\": 3},\n",
    "    \"C\": {\"G\": 4},\n",
    "    \"B\": {\"D\": 2},\n",
    "    \"D\": {\"E\": 2},\n",
    "    \"E\": {\"G\": 1},\n",
    "    \"G\": {}\n",
    "}\n",
    "\n",
    "def bfs(graph: Dict[str, Dict[str, float]], start: str, goal: str) -> Union[str, List[Any]]:\n",
    "    \"\"\"\n",
    "    Performs a breadth-first search on the given graph starting from the specified\n",
    "    start node and searching for the specified goal node.\n",
    "\n",
    "    Args:\n",
    "    - graph (dict): a dictionary where there is a key for each node and the value\n",
    "      is another dictionary of the connecting nodes and their weights\n",
    "    - start (str): the node to start the search from\n",
    "    - goal (str): the node to search for\n",
    "\n",
    "    Returns:\n",
    "    - Union[str, List[Any]]: a string indicating that the path was not found, or a list of nodes\n",
    "      representing the path from start to goal.\n",
    "    \"\"\"\n",
    "    \n",
    "    visited = set()\n",
    "    queue = [(start, [])]\n",
    "\n",
    "    while queue:\n",
    "        (current_node, path) = queue.pop(0)\n",
    "\n",
    "        if current_node not in visited:\n",
    "            visited.add(current_node)\n",
    "            path = path + [current_node]\n",
    "\n",
    "            print(f\"Exploring node {current_node}\")\n",
    "\n",
    "            if current_node == goal:\n",
    "                return f\"Path found: {path}\"\n",
    "\n",
    "            for neighbor in graph[current_node]:\n",
    "                queue.append((neighbor, path))\n",
    "\n",
    "    return \"Path not found\"\n",
    "\n",
    "# Driver Code\n",
    "print(bfs(graph, 'S', 'G'))\n"
   ]
  },
  {
   "attachments": {},
   "cell_type": "markdown",
   "metadata": {},
   "source": [
    "### Uniform Cost "
   ]
  },
  {
   "cell_type": "code",
   "execution_count": 347,
   "metadata": {},
   "outputs": [
    {
     "name": "stdout",
     "output_type": "stream",
     "text": [
      "Exploring node S with cost 0\n",
      "Exploring node A with cost 1\n",
      "Exploring node C with cost 2\n",
      "Exploring node D with cost 3\n",
      "Exploring node B with cost 4\n",
      "Exploring node G with cost 4\n",
      "Path found: ['S', 'A', 'C', 'G'], Cost: 4\n"
     ]
    }
   ],
   "source": [
    "import heapq\n",
    "\n",
    "graph = {\n",
    "    \"S\": {\"A\": 1, \"G\": 12},\n",
    "    \"A\": {\"B\": 3, \"C\": 1},\n",
    "    \"B\": {\"D\": 3},\n",
    "    \"C\": {\"D\": 1, \"G\": 2},\n",
    "    \"D\": {\"G\": 3},\n",
    "    \"G\": {}\n",
    "}\n",
    "\n",
    "def uniform_cost_search(graph: Dict[str, Dict[str, float]], start: str, goal: str) -> Union[str, Tuple[List[str], float]]:\n",
    "    \"\"\"\n",
    "    Find the shortest path from start to goal node using Uniform Cost Search algorithm.\n",
    "\n",
    "    Args:\n",
    "    - graph: A dictionary where there is a key for each node and the value is another dictionary of the connecting nodes and weights.\n",
    "    - start: A string representing the starting node.\n",
    "    - goal: A string representing the goal node.\n",
    "\n",
    "    Returns:\n",
    "    - If path is found, returns a tuple containing the list of nodes in the path and the total cost.\n",
    "    - If path is not found, returns a string \"Path not found\".\n",
    "    \"\"\"\n",
    "\n",
    "    visited = set()\n",
    "    queue = [(0, start, [])]  # (cost, node, path)\n",
    "\n",
    "    while queue:\n",
    "        (cost, current_node, path) = heapq.heappop(queue)\n",
    "\n",
    "        if current_node not in visited:\n",
    "            visited.add(current_node)\n",
    "            path = path + [current_node]\n",
    "\n",
    "            print(f\"Exploring node {current_node} with cost {cost}\")\n",
    "\n",
    "            if current_node == goal:\n",
    "                return f\"Path found: {path}, Cost: {cost}\"\n",
    "\n",
    "            for neighbor, edge_cost in graph[current_node].items():\n",
    "                heapq.heappush(queue, (cost + edge_cost, neighbor, path))\n",
    "\n",
    "    return \"Path not found\"\n",
    "\n",
    "# Driver Code\n",
    "print(uniform_cost_search(graph, 'S', 'G'))\n"
   ]
  },
  {
   "attachments": {},
   "cell_type": "markdown",
   "metadata": {},
   "source": [
    "### A*"
   ]
  },
  {
   "cell_type": "code",
   "execution_count": 348,
   "metadata": {},
   "outputs": [
    {
     "name": "stdout",
     "output_type": "stream",
     "text": [
      "Exploring node S with cost 0\n",
      "Exploring node C with cost 5\n",
      "Exploring node A with cost 3\n",
      "Exploring node D with cost 6\n",
      "Exploring node G with cost 11\n",
      "Path found: ['S', 'C', 'G'], Cost: 11\n"
     ]
    }
   ],
   "source": [
    "import heapq\n",
    "\n",
    "graph = {\n",
    "    \"S\": {\"A\": 3, \"C\": 5},\n",
    "    \"A\": {\"B\": 3, \"C\": 3, \"D\": 3},\n",
    "    \"C\": {\"D\": 2, \"G\": 6},\n",
    "    \"B\": {\"E\": 1},\n",
    "    \"D\": {\"E\": 2},\n",
    "    \"E\": {\"G\": 5},\n",
    "    \"G\": {}\n",
    "}\n",
    "\n",
    "# Heuristic function for the cost from the current node to the goal.\n",
    "def heuristic(node: Any, goal: Any) -> int:\n",
    "    \"\"\"\n",
    "    A heuristic function for the cost from the current node to the goal.\n",
    "\n",
    "    Args:\n",
    "        node (Any): The current node.\n",
    "        goal (Any): The goal node.\n",
    "\n",
    "    Returns:\n",
    "        int: The estimated cost from the current node to the goal.\n",
    "    \"\"\"\n",
    "\n",
    "    h = {\n",
    "        \"S\": 10,\n",
    "        \"A\": 8,\n",
    "        \"B\": 6,\n",
    "        \"C\": 5,\n",
    "        \"D\": 5,\n",
    "        \"E\": 4,\n",
    "        \"G\": 0\n",
    "    }\n",
    "    return h[node]\n",
    "\n",
    "def a_star_search(graph: Dict[Any, Dict[Any, int]], start: Any, goal: Any) -> Union[str, List[Any]]:\n",
    "    \"\"\"Performs A* search algorithm to find the shortest path from start to goal in the given graph.\n",
    "\n",
    "    Args:\n",
    "        graph (Dict[Any, Dict[Any, int]]): A dictionary representing the graph.\n",
    "        start (Any): The start node.\n",
    "        goal (Any): The goal node.\n",
    "\n",
    "    Returns:\n",
    "        Union[str, List[Any]]: The path from start to goal if it exists, otherwise a message indicating that the path was not found.\n",
    "    \"\"\"\n",
    "        \n",
    "    visited = set()\n",
    "    queue = [(0 + heuristic(start, goal), 0, start, [])]  # (f, g, node, path)\n",
    "\n",
    "    while queue:\n",
    "        (f, g, current_node, path) = heapq.heappop(queue)\n",
    "\n",
    "        if current_node not in visited:\n",
    "            visited.add(current_node)\n",
    "            path = path + [current_node]\n",
    "\n",
    "            print(f\"Exploring node {current_node} with cost {g}\")\n",
    "\n",
    "            if current_node == goal:\n",
    "                return f\"Path found: {path}, Cost: {g}\"\n",
    "\n",
    "            for neighbor, edge_cost in graph[current_node].items():\n",
    "                new_g = g + edge_cost\n",
    "                new_f = new_g + heuristic(neighbor, goal)\n",
    "                heapq.heappush(queue, (new_f, new_g, neighbor, path))\n",
    "\n",
    "    return \"Path not found\"\n",
    "\n",
    "# Driver Code\n",
    "print(a_star_search(graph, 'S', 'G'))\n"
   ]
  },
  {
   "attachments": {},
   "cell_type": "markdown",
   "metadata": {},
   "source": [
    "### Greedy Best-First"
   ]
  },
  {
   "cell_type": "code",
   "execution_count": 349,
   "metadata": {},
   "outputs": [
    {
     "name": "stdout",
     "output_type": "stream",
     "text": [
      "Exploring node H with heuristic 2\n",
      "Exploring node B with heuristic 0.8\n",
      "Exploring node A with heuristic 1\n",
      "Exploring node Q with heuristic 0.75\n",
      "Exploring node G with heuristic 0\n",
      "Path found: ['H', 'A', 'Q', 'G']\n"
     ]
    }
   ],
   "source": [
    "import heapq\n",
    "\n",
    "graph = {\n",
    "    \"H\": [\"A\", \"B\", \"C\"],\n",
    "    \"A\": [\"Q\"],\n",
    "    \"B\": [\"A\"],\n",
    "    \"C\": [\"U\"],\n",
    "    \"Q\": [\"G\"],\n",
    "    \"U\": [\"G\"],\n",
    "    \"G\": []\n",
    "}\n",
    "\n",
    "# Heuristic function for the cost from the current node to the goal.\n",
    "def heuristic(node: Any, goal: Any) -> float:\n",
    "    \"\"\"\n",
    "    Heuristic function to estimate the cost from the current node to the goal node.\n",
    "\n",
    "    Args:\n",
    "        node: The current node in the graph.\n",
    "        goal: The goal node in the graph.\n",
    "\n",
    "    Returns:\n",
    "        A float value representing the estimated cost from the current node to the goal node.\n",
    "    \"\"\"\n",
    "    \n",
    "    h = {\n",
    "        \"H\": 2,\n",
    "        \"A\": 1,\n",
    "        \"B\": 0.8,\n",
    "        \"C\": 1.5,\n",
    "        \"Q\": 0.75,\n",
    "        \"U\": 0.5,\n",
    "        \"G\": 0\n",
    "    }\n",
    "    return h[node]\n",
    "\n",
    "def greedy_best_first_search(graph: Dict[Any, List[Any]], start: Any, goal: Any) -> Union[str, List[Any]]:\n",
    "    \"\"\"\n",
    "    Implementation of the greedy best-first search algorithm.\n",
    "\n",
    "    Args:\n",
    "        graph: The graph in which the search will be performed.\n",
    "        start: The starting node for the search.\n",
    "        goal: The goal node for the search.\n",
    "\n",
    "    Returns:\n",
    "        A string indicating that the path was not found or a list representing the path from the start node to the goal node.\n",
    "    \"\"\"\n",
    "\n",
    "    visited = set()\n",
    "    queue = [(heuristic(start, goal), start, [])]  # (h, node, path)\n",
    "\n",
    "    while queue:\n",
    "        (h, current_node, path) = heapq.heappop(queue)\n",
    "\n",
    "        if current_node not in visited:\n",
    "            visited.add(current_node)\n",
    "            path = path + [current_node]\n",
    "\n",
    "            print(f\"Exploring node {current_node} with heuristic {h}\")\n",
    "\n",
    "            if current_node == goal:\n",
    "                return f\"Path found: {path}\"\n",
    "\n",
    "            for neighbor in graph[current_node]:\n",
    "                heapq.heappush(queue, (heuristic(neighbor, goal), neighbor, path))\n",
    "\n",
    "    return \"Path not found\"\n",
    "\n",
    "# Driver Code\n",
    "print(greedy_best_first_search(graph, 'H', 'G'))\n"
   ]
  },
  {
   "attachments": {},
   "cell_type": "markdown",
   "metadata": {},
   "source": [
    "### Evaluate Heuristic"
   ]
  },
  {
   "attachments": {},
   "cell_type": "markdown",
   "metadata": {},
   "source": [
    "### Example"
   ]
  },
  {
   "attachments": {},
   "cell_type": "markdown",
   "metadata": {},
   "source": [
    "The Graph Network used in the following example\n",
    "\n",
    "<img width=\"300px\" src=\"./assets/example_search.png\" alt=\"example graph network\" />\n"
   ]
  },
  {
   "cell_type": "code",
   "execution_count": 350,
   "metadata": {},
   "outputs": [],
   "source": [
    "# graph network with costs - can be used with the DFS, BFS, UCS and A* functions\n",
    "graph = {\n",
    "    \"H\": {\"A\": 1.8, \"B\": 1.8, \"C\": 1.7},\n",
    "    \"A\": {\"Q\": 0.2},\n",
    "    \"B\": {\"A\": 1},\n",
    "    \"C\": {\"U\": 1.5},\n",
    "    \"Q\": {\"G\": 0.9},\n",
    "    \"U\": {\"G\": 0.7},\n",
    "    \"G\": {}\n",
    "}\n",
    "\n",
    "# graph network without costs - only use with the greedy_best_first_search function \n",
    "graph = {\n",
    "    \"H\": [\"A\", \"B\", \"C\"],\n",
    "    \"A\": [\"Q\"],\n",
    "    \"B\": [\"A\"],\n",
    "    \"C\": [\"U\"],\n",
    "    \"Q\": [\"G\"],\n",
    "    \"U\": [\"G\"],\n",
    "    \"G\": []\n",
    "}\n",
    "\n",
    "# the heuristics of each node in the network - replace this in the `heuristic` function for A* or greedy_best_first_search\n",
    "h = {\n",
    "    \"H\": 2,\n",
    "    \"A\": 1,\n",
    "    \"B\": 0.8,\n",
    "    \"C\": 1.5,\n",
    "    \"Q\": 0.75,\n",
    "    \"U\": 0.5,\n",
    "    \"G\": 0\n",
    "}\n"
   ]
  },
  {
   "attachments": {},
   "cell_type": "markdown",
   "metadata": {},
   "source": [
    "## Binary Bullshit"
   ]
  },
  {
   "cell_type": "code",
   "execution_count": 351,
   "metadata": {},
   "outputs": [],
   "source": [
    "def single_point_crossover(parent1: str, parent2: str, crossover_point: int) -> Tuple[str, str]:\n",
    "    \"\"\"\n",
    "    Performs single-point crossover on two binary strings.\n",
    "    \n",
    "    Args:\n",
    "        parent1 (str): The first binary string parent.\n",
    "        parent2 (str): The second binary string parent.\n",
    "        crossover_point (int): The point to do the crossover.\n",
    "    \n",
    "    Returns:\n",
    "        tuple: A tuple containing two binary strings, the offspring of the input parents.\n",
    "    \"\"\"\n",
    "    offspring1 = parent1[:crossover_point] + parent2[crossover_point:]\n",
    "    offspring2 = parent2[:crossover_point] + parent1[crossover_point:]\n",
    "    return offspring1, offspring2\n",
    "\n",
    "\n",
    "def double_point_crossover(parent1: str, parent2: str, crossover_point1: int, crossover_point2: int) -> Tuple[str, str]:\n",
    "    \"\"\"\n",
    "    Performs double-point crossover on two binary strings.\n",
    "    \n",
    "    Args:\n",
    "        parent1 (str): The first binary string parent.\n",
    "        parent2 (str): The second binary string parent.\n",
    "        crossover_point1 (int): The first point to do the crossover.\n",
    "        crossover_point2 (int): The second point to do the crossover.\n",
    "\n",
    "    \n",
    "    Returns:\n",
    "        tuple: A tuple containing two binary strings, the offspring of the input parents.\n",
    "    \"\"\"\n",
    "    offspring1 = parent1[:crossover_point1] + parent2[crossover_point1:crossover_point2] + parent1[crossover_point2:]\n",
    "    offspring2 = parent2[:crossover_point1] + parent1[crossover_point1:crossover_point2] + parent2[crossover_point2:]\n",
    "    return offspring1, offspring2\n",
    "\n",
    "\n",
    "def swap_mutation(binary_string: str, index1: int, index2: int) -> str:\n",
    "    \"\"\"\n",
    "    Performs swap mutation on a binary string.\n",
    "    \n",
    "    Args:\n",
    "        binary_string (str): The input binary string.\n",
    "    \n",
    "    Returns:\n",
    "        str: The mutated binary string.\n",
    "    \"\"\"\n",
    "\n",
    "    binary_list = list(binary_string)\n",
    "    binary_list[index1], binary_list[index2] = binary_list[index2], binary_list[index1]\n",
    "    return ''.join(binary_list)\n",
    "    \n",
    "\n",
    "def binary_to_decimal(binary_string: str) -> int:\n",
    "    \"\"\"\n",
    "    Converts a binary string to a decimal integer.\n",
    "    \n",
    "    Args:\n",
    "        binary_string (str): The input binary string.\n",
    "    \n",
    "    Returns:\n",
    "        int: The decimal integer representation of the input binary string.\n",
    "    \"\"\"\n",
    "    return int(binary_string, 2)\n"
   ]
  },
  {
   "attachments": {},
   "cell_type": "markdown",
   "metadata": {},
   "source": [
    "### Examples"
   ]
  },
  {
   "attachments": {},
   "cell_type": "markdown",
   "metadata": {},
   "source": [
    "Example 1"
   ]
  },
  {
   "attachments": {},
   "cell_type": "markdown",
   "metadata": {},
   "source": [
    "<img height=\"100px\" src=\"./assets/example_binary_1.png\" alt=\"example graph network\" />"
   ]
  },
  {
   "cell_type": "code",
   "execution_count": 352,
   "metadata": {},
   "outputs": [
    {
     "name": "stdout",
     "output_type": "stream",
     "text": [
      "After Single Point Crossover: A'=0101000, B'=1011101\n",
      "\n",
      "After Swap Mutation: A'=0101000, B'=1101101\n",
      "\n",
      "Decimal Representations: A'=40, B'=109\n"
     ]
    }
   ],
   "source": [
    "A = \"0101101\"\n",
    "B = \"1011000\"\n",
    "\n",
    "A_prime, B_prime = single_point_crossover(A, B, crossover_point=3)\n",
    "print(f\"After Single Point Crossover: A'={A_prime}, B'={B_prime}\")\n",
    "\n",
    "A_prime = swap_mutation(A_prime, index1=2, index2=5)\n",
    "B_prime = swap_mutation(B_prime, index1=1, index2=2)\n",
    "print(f\"\\nAfter Swap Mutation: A'={A_prime}, B'={B_prime}\")\n",
    "\n",
    "A_dec = binary_to_decimal(A_prime)\n",
    "B_dec = binary_to_decimal(B_prime)\n",
    "print(f\"\\nDecimal Representations: A'={A_dec}, B'={B_dec}\")"
   ]
  },
  {
   "attachments": {},
   "cell_type": "markdown",
   "metadata": {},
   "source": [
    "Example 2"
   ]
  },
  {
   "attachments": {},
   "cell_type": "markdown",
   "metadata": {},
   "source": [
    "<img height=\"150px\" src=\"./assets/example_binary_2.png\" alt=\"example graph network\" />"
   ]
  },
  {
   "cell_type": "code",
   "execution_count": 353,
   "metadata": {},
   "outputs": [
    {
     "name": "stdout",
     "output_type": "stream",
     "text": [
      "After Double Point Crossover: A'=0011101, B'=1101000\n",
      "\n",
      "After Swap Mutation: A'=0001111, B'=1101000\n",
      "\n",
      "Decimal Representations: A'=15, B'=104\n"
     ]
    }
   ],
   "source": [
    "A = \"0101101\"\n",
    "B = \"1011000\"\n",
    "\n",
    "A_prime, B_prime = double_point_crossover(A, B, crossover_point1=1, crossover_point2=3)\n",
    "print(f\"After Double Point Crossover: A'={A_prime}, B'={B_prime}\")\n",
    "\n",
    "A_prime = swap_mutation(A_prime, index1=2, index2=5)\n",
    "B_prime = swap_mutation(B_prime, index1=2, index2=5)\n",
    "print(f\"\\nAfter Swap Mutation: A'={A_prime}, B'={B_prime}\")\n",
    "\n",
    "A_dec = binary_to_decimal(A_prime)\n",
    "B_dec = binary_to_decimal(B_prime)\n",
    "print(f\"\\nDecimal Representations: A'={A_dec}, B'={B_dec}\")"
   ]
  },
  {
   "attachments": {},
   "cell_type": "markdown",
   "metadata": {},
   "source": [
    "## Fitness"
   ]
  },
  {
   "cell_type": "code",
   "execution_count": 354,
   "metadata": {},
   "outputs": [],
   "source": [
    "def fitness_function(x: float) -> float:\n",
    "    \"\"\"\n",
    "    Calculates the fitness value for the given input using the fitness function.\n",
    "    \n",
    "    Args:\n",
    "        x (float): The input value.\n",
    "\n",
    "    Returns:\n",
    "        float: The fitness value.\n",
    "    \"\"\"\n",
    "    return (-0.5 * x**2) + (3 * x) + 8\n",
    "\n",
    "\n",
    "def get_fitness_values(individuals):\n",
    "\n",
    "    fitness_values = {}\n",
    "\n",
    "    for individual, x_value in individuals.items():\n",
    "        fitness = fitness_function(x_value)\n",
    "        fitness_values[individual] = fitness\n",
    "\n",
    "    print(\"Fitness values for each individual:\")\n",
    "    for individual, fitness in fitness_values.items():\n",
    "        print(f\"{individual}: {fitness}\")\n",
    "\n",
    "    return fitness_values\n",
    "\n",
    "\n",
    "def roulette_wheel_selection(individual_fitness: Dict[str, float], random_number: float) -> str:\n",
    "    \"\"\"\n",
    "    Performs roulette wheel selection on the given dictionary of individuals and their fitness values.\n",
    "    \n",
    "    Args:\n",
    "        individual_fitness (Dict[str, float]): A dictionary containing individuals as keys and their fitness values as values.\n",
    "        random_number (float): A random number between 0 and 1.\n",
    "        \n",
    "    Returns:\n",
    "        str: The selected individual.\n",
    "    \"\"\"\n",
    "\n",
    "    # Normalize the fitness values to obtain probabilities\n",
    "    total_fitness = sum(individual_fitness.values())\n",
    "    probabilities = {individual: fitness / total_fitness for individual, fitness in individual_fitness.items()}\n",
    "\n",
    "    # Compute the cumulative probabilities\n",
    "    cumulative_probabilities = []\n",
    "    cumulative_probability = 0\n",
    "    for individual, probability in probabilities.items():\n",
    "        cumulative_probability += probability\n",
    "        cumulative_probabilities.append((individual, cumulative_probability))\n",
    "\n",
    "    # Roulette wheel selection\n",
    "    selected_individual = None\n",
    "    for individual, cumulative_probability in cumulative_probabilities:\n",
    "        if random_number <= cumulative_probability:\n",
    "            selected_individual = individual\n",
    "            break\n",
    "\n",
    "    return selected_individual"
   ]
  },
  {
   "attachments": {},
   "cell_type": "markdown",
   "metadata": {},
   "source": [
    "#### Example"
   ]
  },
  {
   "attachments": {},
   "cell_type": "markdown",
   "metadata": {},
   "source": [
    "<img width=\"600px\" src=\"./assets/example_roulette.png\" alt=\"example graph network\" />"
   ]
  },
  {
   "attachments": {},
   "cell_type": "markdown",
   "metadata": {},
   "source": [
    "Great formatting..."
   ]
  },
  {
   "attachments": {},
   "cell_type": "markdown",
   "metadata": {},
   "source": [
    "`The answer provided by this function 'C' is apparently incorrect - the answer provided is 'B'.`\n",
    "\n",
    "`I do not know why. I believe 'C' to be the answer`"
   ]
  },
  {
   "cell_type": "code",
   "execution_count": 355,
   "metadata": {},
   "outputs": [
    {
     "name": "stdout",
     "output_type": "stream",
     "text": [
      "Fitness values for each individual:\n",
      "A: 8.800800000000002\n",
      "B: 8.38155\n",
      "C: 3.4262000000000015\n",
      "D: 2.1487499999999997\n",
      "E: 12.1958\n",
      "\n",
      "The selected individual for the random number 0.53 is C.\n"
     ]
    }
   ],
   "source": [
    "# define the fitness function\n",
    "def fitness_function(x: float) -> float:\n",
    "    \"\"\"\n",
    "    Calculates the fitness value for the given input using the fitness function.\n",
    "    \n",
    "    Args:\n",
    "        x (float): The input value.\n",
    "\n",
    "    Returns:\n",
    "        float: The fitness value.\n",
    "    \"\"\"\n",
    "    return -0.5 * x**2 + 3 * x + 8\n",
    "\n",
    "# the individual and their values\n",
    "individuals = {\n",
    "    \"A\": 5.72,\n",
    "    \"B\": 0.13,\n",
    "    \"C\": 7.26,\n",
    "    \"D\": 7.55,\n",
    "    \"E\": 2.22\n",
    "}\n",
    "\n",
    "# get the fitness values for each individual\n",
    "individual_fitness = get_fitness_values(individuals)\n",
    "\n",
    "# should be given in the question\n",
    "random_number = 0.53\n",
    "\n",
    "selected_individual = roulette_wheel_selection(individual_fitness, random_number)\n",
    "print(f\"\\nThe selected individual for the random number {random_number} is {selected_individual}.\")"
   ]
  }
 ],
 "metadata": {
  "kernelspec": {
   "display_name": "data_analytics",
   "language": "python",
   "name": "python3"
  },
  "language_info": {
   "codemirror_mode": {
    "name": "ipython",
    "version": 3
   },
   "file_extension": ".py",
   "mimetype": "text/x-python",
   "name": "python",
   "nbconvert_exporter": "python",
   "pygments_lexer": "ipython3",
   "version": "3.9.16"
  },
  "orig_nbformat": 4
 },
 "nbformat": 4,
 "nbformat_minor": 2
}
